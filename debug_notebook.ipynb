{
 "cells": [
  {
   "cell_type": "code",
   "execution_count": 1,
   "metadata": {},
   "outputs": [],
   "source": [
    "import new_sim\n",
    "import matplotlib.pyplot as plt\n",
    "import numpy as np\n",
    "import time\n",
    "import par_gen_alg as alg\n",
    "from multiprocessing import Pool\n",
    "plt.rcParams[\"figure.figsize\"] = (16,6)"
   ]
  },
  {
   "cell_type": "code",
   "execution_count": null,
   "metadata": {},
   "outputs": [],
   "source": [
    "# genetic algorithm settings\n",
    "gen_size = 10\n",
    "s = 1\n",
    "# cell settings\n",
    "settings = {'DURATION' : 1000, 'BETA' : 0.4, 'FPS' : 100, 'BUDGET' : 300_000}\n",
    "# (K1, K2, K, m_dens, m_std, dir_prob, sens)\n",
    "initial = (1000, 4000, 10000, 0.01, 1, 0.01, 1)"
   ]
  }
 ],
 "metadata": {
  "kernelspec": {
   "display_name": "Python 3.7.11 ('my_env')",
   "language": "python",
   "name": "python3"
  },
  "language_info": {
   "codemirror_mode": {
    "name": "ipython",
    "version": 3
   },
   "file_extension": ".py",
   "mimetype": "text/x-python",
   "name": "python",
   "nbconvert_exporter": "python",
   "pygments_lexer": "ipython3",
   "version": "3.7.11"
  },
  "orig_nbformat": 4,
  "vscode": {
   "interpreter": {
    "hash": "b27579eceae987036f89452a374f8a38bca021a7d3d41880551b5e8a345877f8"
   }
  }
 },
 "nbformat": 4,
 "nbformat_minor": 2
}
